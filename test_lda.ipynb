{
 "cells": [
  {
   "cell_type": "code",
   "execution_count": 1,
   "metadata": {},
   "outputs": [
    {
     "ename": "ImportError",
     "evalue": "dlopen(/Users/linjun/anaconda3/lib/python3.7/site-packages/deltaLDA.cpython-37m-darwin.so, 2): Symbol not found: _PyInt_AsLong\n  Referenced from: /Users/linjun/anaconda3/lib/python3.7/site-packages/deltaLDA.cpython-37m-darwin.so\n  Expected in: flat namespace\n in /Users/linjun/anaconda3/lib/python3.7/site-packages/deltaLDA.cpython-37m-darwin.so",
     "output_type": "error",
     "traceback": [
      "\u001b[0;31m---------------------------------------------------------------------------\u001b[0m",
      "\u001b[0;31mImportError\u001b[0m                               Traceback (most recent call last)",
      "\u001b[0;32m<ipython-input-1-cf87231da0ff>\u001b[0m in \u001b[0;36m<module>\u001b[0;34m\u001b[0m\n\u001b[1;32m      1\u001b[0m \u001b[0;32mfrom\u001b[0m \u001b[0mnumpy\u001b[0m \u001b[0;32mimport\u001b[0m \u001b[0;34m*\u001b[0m\u001b[0;34m\u001b[0m\u001b[0;34m\u001b[0m\u001b[0m\n\u001b[0;32m----> 2\u001b[0;31m \u001b[0;32mfrom\u001b[0m \u001b[0mdeltaLDA\u001b[0m \u001b[0;32mimport\u001b[0m \u001b[0mdeltaLDA\u001b[0m\u001b[0;34m\u001b[0m\u001b[0;34m\u001b[0m\u001b[0m\n\u001b[0m\u001b[1;32m      3\u001b[0m \u001b[0;34m\u001b[0m\u001b[0m\n\u001b[1;32m      4\u001b[0m \u001b[0malpha\u001b[0m \u001b[0;34m=\u001b[0m \u001b[0;36m.1\u001b[0m \u001b[0;34m*\u001b[0m \u001b[0mones\u001b[0m\u001b[0;34m(\u001b[0m\u001b[0;34m(\u001b[0m\u001b[0;36m1\u001b[0m\u001b[0;34m,\u001b[0m\u001b[0;36m3\u001b[0m\u001b[0;34m)\u001b[0m\u001b[0;34m)\u001b[0m\u001b[0;34m\u001b[0m\u001b[0;34m\u001b[0m\u001b[0m\n\u001b[1;32m      5\u001b[0m \u001b[0mbeta\u001b[0m \u001b[0;34m=\u001b[0m \u001b[0mones\u001b[0m\u001b[0;34m(\u001b[0m\u001b[0;34m(\u001b[0m\u001b[0;36m3\u001b[0m\u001b[0;34m,\u001b[0m\u001b[0;36m5\u001b[0m\u001b[0;34m)\u001b[0m\u001b[0;34m)\u001b[0m\u001b[0;34m\u001b[0m\u001b[0;34m\u001b[0m\u001b[0m\n",
      "\u001b[0;31mImportError\u001b[0m: dlopen(/Users/linjun/anaconda3/lib/python3.7/site-packages/deltaLDA.cpython-37m-darwin.so, 2): Symbol not found: _PyInt_AsLong\n  Referenced from: /Users/linjun/anaconda3/lib/python3.7/site-packages/deltaLDA.cpython-37m-darwin.so\n  Expected in: flat namespace\n in /Users/linjun/anaconda3/lib/python3.7/site-packages/deltaLDA.cpython-37m-darwin.so"
     ]
    }
   ],
   "source": [
    "from numpy import *\n",
    "from deltaLDA import deltaLDA\n",
    "\n",
    "alpha = .1 * ones((1,3))\n",
    "beta = ones((3,5))\n",
    "docs = [[1,1,2],\n",
    "        [1,1,1,1,2],\n",
    "        [3,3,3,4],\n",
    "        [3,3,4,4,3,3],\n",
    "        [0,0,0,0,0],\n",
    "        [0,0,0,0]]\n",
    "numsamp = 50\n",
    "randseed = 1\n",
    "(phi,theta,sample) = deltaLDA(docs,alpha,beta,numsamp,randseed)\n"
   ]
  },
  {
   "cell_type": "code",
   "execution_count": 2,
   "metadata": {},
   "outputs": [],
   "source": [
    "import lda"
   ]
  }
 ],
 "metadata": {
  "kernelspec": {
   "display_name": "Python 3",
   "language": "python",
   "name": "python3"
  },
  "language_info": {
   "codemirror_mode": {
    "name": "ipython",
    "version": 3
   },
   "file_extension": ".py",
   "mimetype": "text/x-python",
   "name": "python",
   "nbconvert_exporter": "python",
   "pygments_lexer": "ipython3",
   "version": "3.7.3"
  }
 },
 "nbformat": 4,
 "nbformat_minor": 2
}
